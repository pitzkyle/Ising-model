{
 "cells": [
  {
   "cell_type": "code",
   "execution_count": 1,
   "metadata": {},
   "outputs": [],
   "source": [
    "import numpy as np\n",
    "from PIL import Image\n",
    "from ipywidgets import interact\n",
    "#import matplotlib.pyplot as plt\n",
    "#import matplotlib.animation as animation"
   ]
  },
  {
   "cell_type": "code",
   "execution_count": 2,
   "metadata": {},
   "outputs": [],
   "source": [
    "## Function to generate random N x N lattice of spins\n",
    "def rand_config(N):\n",
    "    return np.random.choice([-1,1], size=(N,N))\n",
    "\n",
    "\n",
    "## Function to calculate total energy of spin configuration\n",
    "def calc_E(config):\n",
    "    N = len(config)\n",
    "    E_tot = 0\n",
    "    for i in range(N):\n",
    "        for j in range(N):\n",
    "            s = config[i,j]\n",
    "            nb_E = config[(i+1)%N, j] + config[(i-1)%N,j] + config[i,(j+1)%N] + config[i,(j-1)%N]\n",
    "            E_tot +=  -s * nb_E\n",
    "    return E_tot/2 #double counting each interaction energy per site\n",
    "\n",
    "\n",
    "## Function to calculate total magnetization of spin configuration\n",
    "def calc_M(config):\n",
    "    return np.sum(config)\n",
    "\n",
    "\n",
    "## Function to perform a Monte Carlo step using Metropolis algorithm, target density function is Boltzmann factor. Returns updated configuration.\n",
    "def ising_step(config, beta, nstep):\n",
    "    N = len(config)\n",
    "    for t in range(nstep):\n",
    "        [i, j] = np.random.randint(0, N, 2)\n",
    "        s = config[i, j]\n",
    "        s_nb = config[(i+1)%N, j] + config[(i-1)%N,j] + config[i,(j+1)%N] + config[i,(j-1)%N]\n",
    "        dE = 2 * s * s_nb\n",
    "        if dE <= 0 or np.random.random() < np.exp(-dE * beta):\n",
    "            config[i,j] *= -1\n",
    "    return config\n",
    "\n",
    "\n",
    "## Function to display spin configuration using PIL\n",
    "def show_config(config):\n",
    "    image = Image.fromarray(np.uint8((config) + 1) * 127.5) #PIL needs value between 0 ... 255\n",
    "    image = image.convert(\"L\")\n",
    "    return image\n",
    "\n",
    "\n",
    "## Function to display sequence of Ising configurations evolving \n",
    "def show_ising_evolve(images):\n",
    "    def _show(frame = (0, len(images)-1)):\n",
    "        return show_config(images[frame])\n",
    "    return interact(_show)\n",
    "\n"
   ]
  },
  {
   "cell_type": "code",
   "execution_count": 9,
   "metadata": {},
   "outputs": [
    {
     "data": {
      "application/vnd.jupyter.widget-view+json": {
       "model_id": "3742a6209f66472c91fed58f26e9fb7b",
       "version_major": 2,
       "version_minor": 0
      },
      "text/plain": [
       "interactive(children=(IntSlider(value=250, description='frame', max=500), Output()), _dom_classes=('widget-int…"
      ]
     },
     "metadata": {},
     "output_type": "display_data"
    },
    {
     "data": {
      "text/plain": [
       "<function __main__.show_ising_evolve.<locals>._show(frame=(0, 500))>"
      ]
     },
     "execution_count": 9,
     "metadata": {},
     "output_type": "execute_result"
    }
   ],
   "source": [
    "images = [rand_config(500)]\n",
    "\n",
    "for i in range(500):\n",
    "    images.append(ising_step(images[-1].copy(), beta=200, nstep=20000))\n",
    "show_ising_evolve(images)"
   ]
  },
  {
   "cell_type": "code",
   "execution_count": null,
   "metadata": {},
   "outputs": [],
   "source": []
  },
  {
   "cell_type": "code",
   "execution_count": 4,
   "metadata": {},
   "outputs": [],
   "source": [
    "def display_spin_field(field):\n",
    "    return Image.fromarray(np.uint8((field + 1) * 0.5 * 255))  # 0 ... 255\n",
    "\n",
    "def display_ising_sequence(images):\n",
    "    def _show(frame=(0, len(images) - 1)):\n",
    "        return display_spin_field(images[frame])\n",
    "    return interact(_show, )"
   ]
  },
  {
   "cell_type": "code",
   "execution_count": 7,
   "metadata": {},
   "outputs": [],
   "source": [
    "images2 = [rand_config(100)]\n",
    "for i in range(200):\n",
    "    images2.append(ising_step(images2[-1].copy(), beta = 50, nstep = 50000))"
   ]
  },
  {
   "cell_type": "code",
   "execution_count": 8,
   "metadata": {},
   "outputs": [
    {
     "data": {
      "application/vnd.jupyter.widget-view+json": {
       "model_id": "274394857dcb4d73b05641434834748f",
       "version_major": 2,
       "version_minor": 0
      },
      "text/plain": [
       "interactive(children=(IntSlider(value=100, description='frame', max=200), Output()), _dom_classes=('widget-int…"
      ]
     },
     "metadata": {},
     "output_type": "display_data"
    },
    {
     "data": {
      "text/plain": [
       "<function __main__.display_ising_sequence.<locals>._show(frame=(0, 200))>"
      ]
     },
     "execution_count": 8,
     "metadata": {},
     "output_type": "execute_result"
    }
   ],
   "source": [
    "display_ising_sequence(images2)"
   ]
  },
  {
   "cell_type": "code",
   "execution_count": null,
   "metadata": {},
   "outputs": [],
   "source": []
  }
 ],
 "metadata": {
  "kernelspec": {
   "display_name": "Python 3",
   "language": "python",
   "name": "python3"
  },
  "language_info": {
   "codemirror_mode": {
    "name": "ipython",
    "version": 3
   },
   "file_extension": ".py",
   "mimetype": "text/x-python",
   "name": "python",
   "nbconvert_exporter": "python",
   "pygments_lexer": "ipython3",
   "version": "3.8.5"
  }
 },
 "nbformat": 4,
 "nbformat_minor": 4
}
